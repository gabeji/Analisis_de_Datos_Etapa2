{
 "cells": [
  {
   "cell_type": "code",
   "execution_count": 5,
   "id": "95f80993-7127-4a28-9825-735556ba333e",
   "metadata": {
    "tags": []
   },
   "outputs": [],
   "source": [
    "import matplotlib.pyplot as plt\n",
    "from sklearn import linear_model\n",
    "import seaborn as sns\n",
    "import numpy as np\n",
    "import pandas as pd"
   ]
  },
  {
   "cell_type": "code",
   "execution_count": 6,
   "id": "fedca9e4-a338-411c-bbf8-b31604dc1aba",
   "metadata": {
    "tags": []
   },
   "outputs": [],
   "source": [
    "data = pd.read_csv(\"c:/PruebasAnalisis/data.csv\", sep=\",\")"
   ]
  },
  {
   "cell_type": "code",
   "execution_count": 7,
   "id": "35c5fee7-5ad8-4b0e-a086-7cb3521410df",
   "metadata": {
    "tags": []
   },
   "outputs": [
    {
     "data": {
      "text/html": [
       "<div>\n",
       "<style scoped>\n",
       "    .dataframe tbody tr th:only-of-type {\n",
       "        vertical-align: middle;\n",
       "    }\n",
       "\n",
       "    .dataframe tbody tr th {\n",
       "        vertical-align: top;\n",
       "    }\n",
       "\n",
       "    .dataframe thead th {\n",
       "        text-align: right;\n",
       "    }\n",
       "</style>\n",
       "<table border=\"1\" class=\"dataframe\">\n",
       "  <thead>\n",
       "    <tr style=\"text-align: right;\">\n",
       "      <th></th>\n",
       "      <th>metro</th>\n",
       "      <th>precio</th>\n",
       "    </tr>\n",
       "  </thead>\n",
       "  <tbody>\n",
       "    <tr>\n",
       "      <th>0</th>\n",
       "      <td>5</td>\n",
       "      <td>375</td>\n",
       "    </tr>\n",
       "    <tr>\n",
       "      <th>1</th>\n",
       "      <td>15</td>\n",
       "      <td>487</td>\n",
       "    </tr>\n",
       "    <tr>\n",
       "      <th>2</th>\n",
       "      <td>20</td>\n",
       "      <td>450</td>\n",
       "    </tr>\n",
       "    <tr>\n",
       "      <th>3</th>\n",
       "      <td>25</td>\n",
       "      <td>500</td>\n",
       "    </tr>\n",
       "  </tbody>\n",
       "</table>\n",
       "</div>"
      ],
      "text/plain": [
       "   metro  precio\n",
       "0      5     375\n",
       "1     15     487\n",
       "2     20     450\n",
       "3     25     500"
      ]
     },
     "execution_count": 7,
     "metadata": {},
     "output_type": "execute_result"
    }
   ],
   "source": [
    "data"
   ]
  },
  {
   "cell_type": "code",
   "execution_count": 8,
   "id": "d50eb8f9-fe79-4af3-b750-43bfc682c84f",
   "metadata": {
    "tags": []
   },
   "outputs": [
    {
     "data": {
      "text/plain": [
       "<bound method NDFrame.describe of    metro  precio\n",
       "0      5     375\n",
       "1     15     487\n",
       "2     20     450\n",
       "3     25     500>"
      ]
     },
     "execution_count": 8,
     "metadata": {},
     "output_type": "execute_result"
    }
   ],
   "source": [
    "data.columns\n",
    "data.info\n",
    "data.describe"
   ]
  },
  {
   "cell_type": "code",
   "execution_count": 9,
   "id": "63ced6eb-18d6-440f-8a2d-01f679c6346d",
   "metadata": {
    "tags": []
   },
   "outputs": [
    {
     "data": {
      "text/plain": [
       "<function matplotlib.pyplot.show(close=None, block=None)>"
      ]
     },
     "execution_count": 9,
     "metadata": {},
     "output_type": "execute_result"
    },
    {
     "data": {
      "image/png": "[encoded data removed]",
      "text/plain": [
       "<Figure size 640x480 with 1 Axes>"
      ]
     },
     "metadata": {},
     "output_type": "display_data"
    }
   ],
   "source": [
    "data.plot.scatter(x=\"metro\", y=\"precio\")\n",
    "plt.show"
   ]
  },
  {
   "cell_type": "code",
   "execution_count": 10,
   "id": "fd6b2875-af30-455e-8d88-b84264a2dd83",
   "metadata": {
    "tags": []
   },
   "outputs": [],
   "source": [
    "regresion = linear_model.LinearRegression()"
   ]
  },
  {
   "cell_type": "code",
   "execution_count": 11,
   "id": "a680fbd3-8cb0-4ab5-ba8d-e4a231b1bb40",
   "metadata": {
    "tags": []
   },
   "outputs": [],
   "source": [
    "metros = data[\"metro\"].values.reshape((-1,1))"
   ]
  },
  {
   "cell_type": "code",
   "execution_count": 13,
   "id": "13e4fc90-101b-4c58-959d-597399c97d41",
   "metadata": {
    "tags": []
   },
   "outputs": [
    {
     "name": "stdout",
     "output_type": "stream",
     "text": [
      "Interseccion (b) 361.25714285714287\n",
      "Pendiente (m) [5.64571429]\n"
     ]
    }
   ],
   "source": [
    "modelo = regresion.fit(metros, data[\"precio\"])\n",
    "\n",
    "print(\"Interseccion (b)\", modelo.intercept_)\n",
    "print(\"Pendiente (m)\", modelo.coef_)"
   ]
  },
  {
   "cell_type": "code",
   "execution_count": 15,
   "id": "0ba0a6dc-5c51-4083-a3e4-aa0260bb00f8",
   "metadata": {
    "tags": []
   },
   "outputs": [
    {
     "name": "stdout",
     "output_type": "stream",
     "text": [
      "[389.48571429 502.4       ]\n"
     ]
    }
   ],
   "source": [
    "entrada= [[5],[25]]\n",
    "predicciones = modelo.predict(entrada)\n",
    "print(predicciones)"
   ]
  },
  {
   "cell_type": "code",
   "execution_count": 17,
   "id": "2212e1fd-9cfe-4d36-a565-8461220530fd",
   "metadata": {
    "tags": []
   },
   "outputs": [
    {
     "data": {
      "image/png": "[encoded data removed]",
      "text/plain": [
       "<Figure size 640x480 with 1 Axes>"
      ]
     },
     "metadata": {},
     "output_type": "display_data"
    }
   ],
   "source": [
    "data.plot.scatter(x=\"metro\", y=\"precio\", label=\"Datos\")\n",
    "plt.scatter(entrada, predicciones, color=\"red\")\n",
    "plt.plot(entrada, predicciones, color=\"black\", label=\"Linea de Regresion\")\n",
    "plt.xlabel(\"metro\")\n",
    "plt.legend(\"precio\")\n",
    "plt.legend()\n",
    "plt.show()"
   ]
  },
  {
   "cell_type": "code",
   "execution_count": null,
   "id": "d790d203-7525-446b-948a-3344e3b36e85",
   "metadata": {},
   "outputs": [],
   "source": []
  },
  {
   "cell_type": "code",
   "execution_count": null,
   "id": "b19494e5-9ea1-4c8b-b234-f1542233c14a",
   "metadata": {},
   "outputs": [],
   "source": []
  }
 ],
 "metadata": {
  "kernelspec": {
   "display_name": "Python 3 (ipykernel)",
   "language": "python",
   "name": "python3"
  },
  "language_info": {
   "codemirror_mode": {
    "name": "ipython",
    "version": 3
   },
   "file_extension": ".py",
   "mimetype": "text/x-python",
   "name": "python",
   "nbconvert_exporter": "python",
   "pygments_lexer": "ipython3",
   "version": "3.11.4"
  }
 },
 "nbformat": 4,
 "nbformat_minor": 5
}
